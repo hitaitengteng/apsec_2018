{
 "cells": [
  {
   "cell_type": "code",
   "execution_count": 2,
   "metadata": {
    "collapsed": true
   },
   "outputs": [],
   "source": [
    "import pandas as pd\n",
    "import numpy as np\n",
    "import matplotlib.pyplot as plt  \n",
    "import seaborn as sns  \n",
    "sns.set_style(\"whitegrid\")  \n",
    "%matplotlib inline"
   ]
  },
  {
   "cell_type": "markdown",
   "metadata": {},
   "source": [
    "## Comparison among ICSE07(VSM model), DSN08(Clustering method) and our model"
   ]
  },
  {
   "cell_type": "code",
   "execution_count": 13,
   "metadata": {
    "collapsed": false
   },
   "outputs": [
    {
     "data": {
      "text/html": [
       "<div>\n",
       "<table border=\"1\" class=\"dataframe\">\n",
       "  <thead>\n",
       "    <tr style=\"text-align: right;\">\n",
       "      <th></th>\n",
       "      <th>VSM</th>\n",
       "      <th>Clustering</th>\n",
       "      <th>DBR-CNN</th>\n",
       "    </tr>\n",
       "  </thead>\n",
       "  <tbody>\n",
       "    <tr>\n",
       "      <th>spark</th>\n",
       "      <td>0.587500</td>\n",
       "      <td>0.665988</td>\n",
       "      <td>0.968017</td>\n",
       "    </tr>\n",
       "    <tr>\n",
       "      <th>hdfs</th>\n",
       "      <td>0.515464</td>\n",
       "      <td>0.665105</td>\n",
       "      <td>0.942408</td>\n",
       "    </tr>\n",
       "    <tr>\n",
       "      <th>mapreduce</th>\n",
       "      <td>0.529412</td>\n",
       "      <td>0.669683</td>\n",
       "      <td>0.975904</td>\n",
       "    </tr>\n",
       "    <tr>\n",
       "      <th>hadoop</th>\n",
       "      <td>0.400000</td>\n",
       "      <td>0.541667</td>\n",
       "      <td>0.833333</td>\n",
       "    </tr>\n",
       "  </tbody>\n",
       "</table>\n",
       "</div>"
      ],
      "text/plain": [
       "                VSM  Clustering   DBR-CNN\n",
       "spark      0.587500    0.665988  0.968017\n",
       "hdfs       0.515464    0.665105  0.942408\n",
       "mapreduce  0.529412    0.669683  0.975904\n",
       "hadoop     0.400000    0.541667  0.833333"
      ]
     },
     "execution_count": 13,
     "metadata": {},
     "output_type": "execute_result"
    }
   ],
   "source": [
    "df_f1=pd.DataFrame([\n",
    "                    [0.587500, 0.665988, 0.968017],\n",
    "                    [0.515464, 0.665105, 0.942408],\n",
    "                    [0.529412, 0.669683, 0.975904],\n",
    "                    [0.400000, 0.541667, 0.833333]\n",
    "                   ],\n",
    "             index=['spark','hdfs','mapreduce','hadoop'],\n",
    "             columns=pd.Index(['VSM','Clustering', 'DBR-CNN']))\n",
    "df_f1"
   ]
  },
  {
   "cell_type": "code",
   "execution_count": 14,
   "metadata": {
    "collapsed": false
   },
   "outputs": [
    {
     "data": {
      "text/plain": [
       "<matplotlib.text.Text at 0x115b5c790>"
      ]
     },
     "execution_count": 14,
     "metadata": {},
     "output_type": "execute_result"
    },
    {
     "data": {
      "image/png": "[encoded data removed]",
      "text/plain": [
       "<matplotlib.figure.Figure at 0x115967d90>"
      ]
     },
     "metadata": {},
     "output_type": "display_data"
    }
   ],
   "source": [
    "df_f1.plot(kind='bar', use_index = ['spark','hdfs','mapreduce','hadoop'], \\\n",
    "           rot = 360, ylim=(0,1.2), figsize=(6,5)).set_ylabel('F-measure')"
   ]
  },
  {
   "cell_type": "code",
   "execution_count": 17,
   "metadata": {
    "collapsed": false
   },
   "outputs": [
    {
     "data": {
      "text/html": [
       "<div>\n",
       "<table border=\"1\" class=\"dataframe\">\n",
       "  <thead>\n",
       "    <tr style=\"text-align: right;\">\n",
       "      <th></th>\n",
       "      <th>VSM</th>\n",
       "      <th>Clustering</th>\n",
       "      <th>DBR-CNN</th>\n",
       "    </tr>\n",
       "  </thead>\n",
       "  <tbody>\n",
       "    <tr>\n",
       "      <th>spark</th>\n",
       "      <td>0.697710</td>\n",
       "      <td>0.499237</td>\n",
       "      <td>0.977134</td>\n",
       "    </tr>\n",
       "    <tr>\n",
       "      <th>hdfs</th>\n",
       "      <td>0.670175</td>\n",
       "      <td>0.498246</td>\n",
       "      <td>0.961404</td>\n",
       "    </tr>\n",
       "    <tr>\n",
       "      <th>mapreduce</th>\n",
       "      <td>0.677852</td>\n",
       "      <td>0.510067</td>\n",
       "      <td>0.973333</td>\n",
       "    </tr>\n",
       "    <tr>\n",
       "      <th>hadoop</th>\n",
       "      <td>0.657143</td>\n",
       "      <td>0.371429</td>\n",
       "      <td>0.853333</td>\n",
       "    </tr>\n",
       "  </tbody>\n",
       "</table>\n",
       "</div>"
      ],
      "text/plain": [
       "                VSM  Clustering   DBR-CNN\n",
       "spark      0.697710    0.499237  0.977134\n",
       "hdfs       0.670175    0.498246  0.961404\n",
       "mapreduce  0.677852    0.510067  0.973333\n",
       "hadoop     0.657143    0.371429  0.853333"
      ]
     },
     "execution_count": 17,
     "metadata": {},
     "output_type": "execute_result"
    }
   ],
   "source": [
    "df_acc=pd.DataFrame([\n",
    "                    [0.697710, 0.499237, 0.977134],\n",
    "                    [0.670175, 0.498246, 0.961404],\n",
    "                    [0.677852, 0.510067, 0.973333],\n",
    "                    [0.657143, 0.371429, 0.853333]\n",
    "                   ],\n",
    "             index=['spark','hdfs','mapreduce','hadoop'],\n",
    "             columns=pd.Index(['VSM','Clustering', 'DBR-CNN']))\n",
    "df_acc"
   ]
  },
  {
   "cell_type": "code",
   "execution_count": 19,
   "metadata": {
    "collapsed": false
   },
   "outputs": [
    {
     "data": {
      "text/plain": [
       "<matplotlib.text.Text at 0x115f56550>"
      ]
     },
     "execution_count": 19,
     "metadata": {},
     "output_type": "execute_result"
    },
    {
     "data": {
      "image/png": "[encoded data removed]",
      "text/plain": [
       "<matplotlib.figure.Figure at 0x116c06090>"
      ]
     },
     "metadata": {},
     "output_type": "display_data"
    }
   ],
   "source": [
    "df_acc.plot(kind='bar', use_index = ['spark','hdfs','mapreduce','hadoop'], \\\n",
    "            rot = 360,ylim=(0,1.2), figsize=(6,5)).set_ylabel('Accuracy')"
   ]
  },
  {
   "cell_type": "markdown",
   "metadata": {},
   "source": [
    "## Comparison between Traditional CNN and our model using different word vectors"
   ]
  },
  {
   "cell_type": "code",
   "execution_count": 22,
   "metadata": {
    "collapsed": false
   },
   "outputs": [
    {
     "data": {
      "text/html": [
       "<div>\n",
       "<table border=\"1\" class=\"dataframe\">\n",
       "  <thead>\n",
       "    <tr style=\"text-align: right;\">\n",
       "      <th></th>\n",
       "      <th>Traditional-CNN</th>\n",
       "      <th>DBR-CNN</th>\n",
       "    </tr>\n",
       "  </thead>\n",
       "  <tbody>\n",
       "    <tr>\n",
       "      <th>spark</th>\n",
       "      <td>0.796</td>\n",
       "      <td>0.950</td>\n",
       "    </tr>\n",
       "    <tr>\n",
       "      <th>hdfs</th>\n",
       "      <td>0.829</td>\n",
       "      <td>0.974</td>\n",
       "    </tr>\n",
       "    <tr>\n",
       "      <th>mapreduce</th>\n",
       "      <td>0.712</td>\n",
       "      <td>0.924</td>\n",
       "    </tr>\n",
       "    <tr>\n",
       "      <th>hadoop</th>\n",
       "      <td>0.662</td>\n",
       "      <td>0.678</td>\n",
       "    </tr>\n",
       "  </tbody>\n",
       "</table>\n",
       "</div>"
      ],
      "text/plain": [
       "           Traditional-CNN  DBR-CNN\n",
       "spark                0.796    0.950\n",
       "hdfs                 0.829    0.974\n",
       "mapreduce            0.712    0.924\n",
       "hadoop               0.662    0.678"
      ]
     },
     "execution_count": 22,
     "metadata": {},
     "output_type": "execute_result"
    }
   ],
   "source": [
    "df_f1_random = pd.DataFrame([\n",
    "                    [0.796, 0.950],\n",
    "                    [0.829, 0.974],\n",
    "                    [0.712, 0.924],\n",
    "                    [0.662, 0.678]\n",
    "                   ],\n",
    "             index=['spark','hdfs','mapreduce','hadoop'],\n",
    "             columns=pd.Index(['Traditional-CNN', 'DBR-CNN']))\n",
    "\n",
    "df_f1_random"
   ]
  },
  {
   "cell_type": "code",
   "execution_count": 23,
   "metadata": {
    "collapsed": false
   },
   "outputs": [
    {
     "data": {
      "text/plain": [
       "<matplotlib.text.Text at 0x116fbe390>"
      ]
     },
     "execution_count": 23,
     "metadata": {},
     "output_type": "execute_result"
    },
    {
     "data": {
      "image/png": "[encoded data removed]",
      "text/plain": [
       "<matplotlib.figure.Figure at 0x116df4ed0>"
      ]
     },
     "metadata": {},
     "output_type": "display_data"
    }
   ],
   "source": [
    "df_f1_random. plot(kind='bar', use_index = ['spark','hdfs','mapreduce','hadoop'], \\\n",
    "            rot = 360,ylim=(0,1.2), figsize=(6,5)).set_ylabel('F-measure')"
   ]
  },
  {
   "cell_type": "code",
   "execution_count": 24,
   "metadata": {
    "collapsed": false
   },
   "outputs": [
    {
     "data": {
      "text/html": [
       "<div>\n",
       "<table border=\"1\" class=\"dataframe\">\n",
       "  <thead>\n",
       "    <tr style=\"text-align: right;\">\n",
       "      <th></th>\n",
       "      <th>Traditional-CNN</th>\n",
       "      <th>DBR-CNN</th>\n",
       "    </tr>\n",
       "  </thead>\n",
       "  <tbody>\n",
       "    <tr>\n",
       "      <th>spark</th>\n",
       "      <td>0.822</td>\n",
       "      <td>0.964</td>\n",
       "    </tr>\n",
       "    <tr>\n",
       "      <th>hdfs</th>\n",
       "      <td>0.848</td>\n",
       "      <td>0.982</td>\n",
       "    </tr>\n",
       "    <tr>\n",
       "      <th>mapreduce</th>\n",
       "      <td>0.782</td>\n",
       "      <td>0.946</td>\n",
       "    </tr>\n",
       "    <tr>\n",
       "      <th>hadoop</th>\n",
       "      <td>0.726</td>\n",
       "      <td>0.752</td>\n",
       "    </tr>\n",
       "  </tbody>\n",
       "</table>\n",
       "</div>"
      ],
      "text/plain": [
       "           Traditional-CNN  DBR-CNN\n",
       "spark                0.822    0.964\n",
       "hdfs                 0.848    0.982\n",
       "mapreduce            0.782    0.946\n",
       "hadoop               0.726    0.752"
      ]
     },
     "execution_count": 24,
     "metadata": {},
     "output_type": "execute_result"
    }
   ],
   "source": [
    "df_acc_random = pd.DataFrame([\n",
    "                    [0.822, 0.964],\n",
    "                    [0.848, 0.982],\n",
    "                    [0.782, 0.946],\n",
    "                    [0.726, 0.752]\n",
    "                   ],\n",
    "             index=['spark','hdfs','mapreduce','hadoop'],\n",
    "             columns=pd.Index(['Traditional-CNN', 'DBR-CNN']))\n",
    "\n",
    "df_acc_random"
   ]
  },
  {
   "cell_type": "code",
   "execution_count": 25,
   "metadata": {
    "collapsed": false
   },
   "outputs": [
    {
     "data": {
      "text/plain": [
       "<matplotlib.text.Text at 0x1171c8250>"
      ]
     },
     "execution_count": 25,
     "metadata": {},
     "output_type": "execute_result"
    },
    {
     "data": {
      "image/png": "[encoded data removed]",
      "text/plain": [
       "<matplotlib.figure.Figure at 0x1171a3e50>"
      ]
     },
     "metadata": {},
     "output_type": "display_data"
    }
   ],
   "source": [
    "df_acc_random.plot(kind='bar', use_index = ['spark','hdfs','mapreduce','hadoop'], \\\n",
    "            rot = 360,ylim=(0,1.2), figsize=(6,5)).set_ylabel('Accuracy')"
   ]
  },
  {
   "cell_type": "code",
   "execution_count": 26,
   "metadata": {
    "collapsed": false
   },
   "outputs": [
    {
     "data": {
      "text/html": [
       "<div>\n",
       "<table border=\"1\" class=\"dataframe\">\n",
       "  <thead>\n",
       "    <tr style=\"text-align: right;\">\n",
       "      <th></th>\n",
       "      <th>Traditional-CNN</th>\n",
       "      <th>DBR-CNN</th>\n",
       "    </tr>\n",
       "  </thead>\n",
       "  <tbody>\n",
       "    <tr>\n",
       "      <th>spark</th>\n",
       "      <td>0.835</td>\n",
       "      <td>0.961</td>\n",
       "    </tr>\n",
       "    <tr>\n",
       "      <th>hdfs</th>\n",
       "      <td>0.852</td>\n",
       "      <td>0.935</td>\n",
       "    </tr>\n",
       "    <tr>\n",
       "      <th>mapreduce</th>\n",
       "      <td>0.697</td>\n",
       "      <td>0.924</td>\n",
       "    </tr>\n",
       "    <tr>\n",
       "      <th>hadoop</th>\n",
       "      <td>0.850</td>\n",
       "      <td>0.962</td>\n",
       "    </tr>\n",
       "  </tbody>\n",
       "</table>\n",
       "</div>"
      ],
      "text/plain": [
       "           Traditional-CNN  DBR-CNN\n",
       "spark                0.835    0.961\n",
       "hdfs                 0.852    0.935\n",
       "mapreduce            0.697    0.924\n",
       "hadoop               0.850    0.962"
      ]
     },
     "execution_count": 26,
     "metadata": {},
     "output_type": "execute_result"
    }
   ],
   "source": [
    "df_f1_Glove = pd.DataFrame([\n",
    "                    [0.835, 0.961],\n",
    "                    [0.852, 0.935],\n",
    "                    [0.697, 0.924],\n",
    "                    [0.850, 0.962]\n",
    "                   ],\n",
    "             index=['spark','hdfs','mapreduce','hadoop'],\n",
    "             columns=pd.Index(['Traditional-CNN', 'DBR-CNN']))\n",
    "\n",
    "df_f1_Glove"
   ]
  },
  {
   "cell_type": "code",
   "execution_count": 27,
   "metadata": {
    "collapsed": false
   },
   "outputs": [
    {
     "data": {
      "text/plain": [
       "<matplotlib.text.Text at 0x117390ad0>"
      ]
     },
     "execution_count": 27,
     "metadata": {},
     "output_type": "execute_result"
    },
    {
     "data": {
      "image/png": "[encoded data removed]",
      "text/plain": [
       "<matplotlib.figure.Figure at 0x116c0e190>"
      ]
     },
     "metadata": {},
     "output_type": "display_data"
    }
   ],
   "source": [
    "df_f1_Glove.plot(kind='bar', use_index = ['spark','hdfs','mapreduce','hadoop'], \\\n",
    "           rot = 360, ylim=(0,1.2), figsize=(6,5)).set_ylabel('F-measure')"
   ]
  },
  {
   "cell_type": "code",
   "execution_count": 28,
   "metadata": {
    "collapsed": false
   },
   "outputs": [
    {
     "data": {
      "text/html": [
       "<div>\n",
       "<table border=\"1\" class=\"dataframe\">\n",
       "  <thead>\n",
       "    <tr style=\"text-align: right;\">\n",
       "      <th></th>\n",
       "      <th>Traditional-CNN</th>\n",
       "      <th>DBR-CNN</th>\n",
       "    </tr>\n",
       "  </thead>\n",
       "  <tbody>\n",
       "    <tr>\n",
       "      <th>spark</th>\n",
       "      <td>0.857</td>\n",
       "      <td>0.972</td>\n",
       "    </tr>\n",
       "    <tr>\n",
       "      <th>hdfs</th>\n",
       "      <td>0.882</td>\n",
       "      <td>0.957</td>\n",
       "    </tr>\n",
       "    <tr>\n",
       "      <th>mapreduce</th>\n",
       "      <td>0.753</td>\n",
       "      <td>0.946</td>\n",
       "    </tr>\n",
       "    <tr>\n",
       "      <th>hadoop</th>\n",
       "      <td>0.908</td>\n",
       "      <td>0.989</td>\n",
       "    </tr>\n",
       "  </tbody>\n",
       "</table>\n",
       "</div>"
      ],
      "text/plain": [
       "           Traditional-CNN  DBR-CNN\n",
       "spark                0.857    0.972\n",
       "hdfs                 0.882    0.957\n",
       "mapreduce            0.753    0.946\n",
       "hadoop               0.908    0.989"
      ]
     },
     "execution_count": 28,
     "metadata": {},
     "output_type": "execute_result"
    }
   ],
   "source": [
    "df_acc_Glove = pd.DataFrame([\n",
    "                    [0.857, 0.972],\n",
    "                    [0.882, 0.957],\n",
    "                    [0.753, 0.946],\n",
    "                    [0.908, 0.989]\n",
    "                   ],\n",
    "             index=['spark','hdfs','mapreduce','hadoop'],\n",
    "             columns=pd.Index(['Traditional-CNN', 'DBR-CNN']))\n",
    "\n",
    "df_acc_Glove"
   ]
  },
  {
   "cell_type": "code",
   "execution_count": 29,
   "metadata": {
    "collapsed": false
   },
   "outputs": [
    {
     "data": {
      "text/plain": [
       "<matplotlib.text.Text at 0x117568610>"
      ]
     },
     "execution_count": 29,
     "metadata": {},
     "output_type": "execute_result"
    },
    {
     "data": {
      "image/png": "[encoded data removed]",
      "text/plain": [
       "<matplotlib.figure.Figure at 0x116df4f10>"
      ]
     },
     "metadata": {},
     "output_type": "display_data"
    }
   ],
   "source": [
    "df_acc_Glove.plot(kind='bar', use_index = ['spark','hdfs','mapreduce','hadoop'], \\\n",
    "            rot = 360,ylim=(0,1.2), figsize=(6,5)).set_ylabel('Accuracy')"
   ]
  },
  {
   "cell_type": "code",
   "execution_count": 30,
   "metadata": {
    "collapsed": false
   },
   "outputs": [
    {
     "data": {
      "text/html": [
       "<div>\n",
       "<table border=\"1\" class=\"dataframe\">\n",
       "  <thead>\n",
       "    <tr style=\"text-align: right;\">\n",
       "      <th></th>\n",
       "      <th>Traditional-CNN</th>\n",
       "      <th>DBR-CNN</th>\n",
       "    </tr>\n",
       "  </thead>\n",
       "  <tbody>\n",
       "    <tr>\n",
       "      <th>spark</th>\n",
       "      <td>0.839</td>\n",
       "      <td>0.931</td>\n",
       "    </tr>\n",
       "    <tr>\n",
       "      <th>hdfs</th>\n",
       "      <td>0.831</td>\n",
       "      <td>0.837</td>\n",
       "    </tr>\n",
       "    <tr>\n",
       "      <th>mapreduce</th>\n",
       "      <td>0.729</td>\n",
       "      <td>0.926</td>\n",
       "    </tr>\n",
       "    <tr>\n",
       "      <th>hadoop</th>\n",
       "      <td>0.843</td>\n",
       "      <td>0.946</td>\n",
       "    </tr>\n",
       "  </tbody>\n",
       "</table>\n",
       "</div>"
      ],
      "text/plain": [
       "           Traditional-CNN  DBR-CNN\n",
       "spark                0.839    0.931\n",
       "hdfs                 0.831    0.837\n",
       "mapreduce            0.729    0.926\n",
       "hadoop               0.843    0.946"
      ]
     },
     "execution_count": 30,
     "metadata": {},
     "output_type": "execute_result"
    }
   ],
   "source": [
    "df_f1_w2v = pd.DataFrame([\n",
    "                    [0.839, 0.931],\n",
    "                    [0.831, 0.837],\n",
    "                    [0.729, 0.926],\n",
    "                    [0.843, 0.946]\n",
    "                   ],\n",
    "             index=['spark','hdfs','mapreduce','hadoop'],\n",
    "             columns=pd.Index(['Traditional-CNN', 'DBR-CNN']))\n",
    "\n",
    "df_f1_w2v"
   ]
  },
  {
   "cell_type": "code",
   "execution_count": 31,
   "metadata": {
    "collapsed": false
   },
   "outputs": [
    {
     "data": {
      "text/plain": [
       "<matplotlib.text.Text at 0x11772fd50>"
      ]
     },
     "execution_count": 31,
     "metadata": {},
     "output_type": "execute_result"
    },
    {
     "data": {
      "image/png": "[encoded data removed]",
      "text/plain": [
       "<matplotlib.figure.Figure at 0x11759a490>"
      ]
     },
     "metadata": {},
     "output_type": "display_data"
    }
   ],
   "source": [
    "df_f1_w2v.plot(kind='bar', use_index = ['spark','hdfs','mapreduce','hadoop'], \\\n",
    "           rot = 360, ylim=(0,1.2), figsize=(6,5)).set_ylabel('F-measure')"
   ]
  },
  {
   "cell_type": "code",
   "execution_count": 32,
   "metadata": {
    "collapsed": false
   },
   "outputs": [
    {
     "data": {
      "text/html": [
       "<div>\n",
       "<table border=\"1\" class=\"dataframe\">\n",
       "  <thead>\n",
       "    <tr style=\"text-align: right;\">\n",
       "      <th></th>\n",
       "      <th>Traditional-CNN</th>\n",
       "      <th>DBR-CNN</th>\n",
       "    </tr>\n",
       "  </thead>\n",
       "  <tbody>\n",
       "    <tr>\n",
       "      <th>spark</th>\n",
       "      <td>0.849</td>\n",
       "      <td>0.948</td>\n",
       "    </tr>\n",
       "    <tr>\n",
       "      <th>hdfs</th>\n",
       "      <td>0.852</td>\n",
       "      <td>0.895</td>\n",
       "    </tr>\n",
       "    <tr>\n",
       "      <th>mapreduce</th>\n",
       "      <td>0.849</td>\n",
       "      <td>0.960</td>\n",
       "    </tr>\n",
       "    <tr>\n",
       "      <th>hadoop</th>\n",
       "      <td>0.867</td>\n",
       "      <td>0.964</td>\n",
       "    </tr>\n",
       "  </tbody>\n",
       "</table>\n",
       "</div>"
      ],
      "text/plain": [
       "           Traditional-CNN  DBR-CNN\n",
       "spark                0.849    0.948\n",
       "hdfs                 0.852    0.895\n",
       "mapreduce            0.849    0.960\n",
       "hadoop               0.867    0.964"
      ]
     },
     "execution_count": 32,
     "metadata": {},
     "output_type": "execute_result"
    }
   ],
   "source": [
    "df_acc_w2v = pd.DataFrame([\n",
    "                    [0.849, 0.948],\n",
    "                    [0.852, 0.895],\n",
    "                    [0.849, 0.960],\n",
    "                    [0.867, 0.964]\n",
    "                   ],\n",
    "             index=['spark','hdfs','mapreduce','hadoop'],\n",
    "             columns=pd.Index(['Traditional-CNN', 'DBR-CNN']))\n",
    "\n",
    "df_acc_w2v"
   ]
  },
  {
   "cell_type": "code",
   "execution_count": 33,
   "metadata": {
    "collapsed": false
   },
   "outputs": [
    {
     "data": {
      "text/plain": [
       "<matplotlib.text.Text at 0x1178cbb50>"
      ]
     },
     "execution_count": 33,
     "metadata": {},
     "output_type": "execute_result"
    },
    {
     "data": {
      "image/png": "[encoded data removed]",
      "text/plain": [
       "<matplotlib.figure.Figure at 0x1178c2590>"
      ]
     },
     "metadata": {},
     "output_type": "display_data"
    }
   ],
   "source": [
    "df_acc_w2v.plot(kind='bar', use_index = ['spark','hdfs','mapreduce','hadoop'], \\\n",
    "            rot = 360,ylim=(0,1.2), figsize=(6,5)).set_ylabel('Accuracy')"
   ]
  }
 ],
 "metadata": {
  "anaconda-cloud": {},
  "kernelspec": {
   "display_name": "Python [default]",
   "language": "python",
   "name": "python2"
  },
  "language_info": {
   "codemirror_mode": {
    "name": "ipython",
    "version": 2
   },
   "file_extension": ".py",
   "mimetype": "text/x-python",
   "name": "python",
   "nbconvert_exporter": "python",
   "pygments_lexer": "ipython2",
   "version": "2.7.12"
  }
 },
 "nbformat": 4,
 "nbformat_minor": 1
}
